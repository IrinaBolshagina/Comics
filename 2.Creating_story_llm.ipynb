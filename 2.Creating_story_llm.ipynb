{
  "nbformat": 4,
  "nbformat_minor": 0,
  "metadata": {
    "colab": {
      "provenance": [],
      "authorship_tag": "ABX9TyNjD05rFifuvr4PRwFWVA1j",
      "include_colab_link": true
    },
    "kernelspec": {
      "name": "python3",
      "display_name": "Python 3"
    },
    "language_info": {
      "name": "python"
    }
  },
  "cells": [
    {
      "cell_type": "markdown",
      "metadata": {
        "id": "view-in-github",
        "colab_type": "text"
      },
      "source": [
        "<a href=\"https://colab.research.google.com/github/IrinaBolshagina/Comics/blob/main/2.Creating_story_llm.ipynb\" target=\"_parent\"><img src=\"https://colab.research.google.com/assets/colab-badge.svg\" alt=\"Open In Colab\"/></a>"
      ]
    },
    {
      "cell_type": "markdown",
      "source": [
        "In this notebook I use [TinyLlama](https://huggingface.co/TinyLlama/TinyLlama-1.1B-Chat-v1.0) model to create a comic book story based on images descriptions\n",
        "1. Create pipeline for the LLM model\n",
        "2. Make a promt using images description generated in previous notebook (1.Image_caption.ipynb)\n",
        "3. Parse result to get separate dialog lines for the pictures (there can be 1-3 lines for each picture)"
      ],
      "metadata": {
        "id": "CBKw2WxF7axe"
      }
    },
    {
      "cell_type": "markdown",
      "source": [
        "1. Create pipeline"
      ],
      "metadata": {
        "id": "PwCC8_BU8hMT"
      }
    },
    {
      "cell_type": "code",
      "execution_count": 8,
      "metadata": {
        "colab": {
          "base_uri": "https://localhost:8080/"
        },
        "id": "PM2kZDJujnBs",
        "outputId": "86a51b12-3878-47ff-e5ec-b29d28715e47"
      },
      "outputs": [
        {
          "output_type": "stream",
          "name": "stdout",
          "text": [
            "Requirement already satisfied: accelerate in /usr/local/lib/python3.10/dist-packages (0.27.2)\n",
            "Requirement already satisfied: numpy>=1.17 in /usr/local/lib/python3.10/dist-packages (from accelerate) (1.25.2)\n",
            "Requirement already satisfied: packaging>=20.0 in /usr/local/lib/python3.10/dist-packages (from accelerate) (23.2)\n",
            "Requirement already satisfied: psutil in /usr/local/lib/python3.10/dist-packages (from accelerate) (5.9.5)\n",
            "Requirement already satisfied: pyyaml in /usr/local/lib/python3.10/dist-packages (from accelerate) (6.0.1)\n",
            "Requirement already satisfied: torch>=1.10.0 in /usr/local/lib/python3.10/dist-packages (from accelerate) (2.1.0+cu121)\n",
            "Requirement already satisfied: huggingface-hub in /usr/local/lib/python3.10/dist-packages (from accelerate) (0.20.3)\n",
            "Requirement already satisfied: safetensors>=0.3.1 in /usr/local/lib/python3.10/dist-packages (from accelerate) (0.4.2)\n",
            "Requirement already satisfied: filelock in /usr/local/lib/python3.10/dist-packages (from torch>=1.10.0->accelerate) (3.13.1)\n",
            "Requirement already satisfied: typing-extensions in /usr/local/lib/python3.10/dist-packages (from torch>=1.10.0->accelerate) (4.9.0)\n",
            "Requirement already satisfied: sympy in /usr/local/lib/python3.10/dist-packages (from torch>=1.10.0->accelerate) (1.12)\n",
            "Requirement already satisfied: networkx in /usr/local/lib/python3.10/dist-packages (from torch>=1.10.0->accelerate) (3.2.1)\n",
            "Requirement already satisfied: jinja2 in /usr/local/lib/python3.10/dist-packages (from torch>=1.10.0->accelerate) (3.1.3)\n",
            "Requirement already satisfied: fsspec in /usr/local/lib/python3.10/dist-packages (from torch>=1.10.0->accelerate) (2023.6.0)\n",
            "Requirement already satisfied: triton==2.1.0 in /usr/local/lib/python3.10/dist-packages (from torch>=1.10.0->accelerate) (2.1.0)\n",
            "Requirement already satisfied: requests in /usr/local/lib/python3.10/dist-packages (from huggingface-hub->accelerate) (2.31.0)\n",
            "Requirement already satisfied: tqdm>=4.42.1 in /usr/local/lib/python3.10/dist-packages (from huggingface-hub->accelerate) (4.66.2)\n",
            "Requirement already satisfied: MarkupSafe>=2.0 in /usr/local/lib/python3.10/dist-packages (from jinja2->torch>=1.10.0->accelerate) (2.1.5)\n",
            "Requirement already satisfied: charset-normalizer<4,>=2 in /usr/local/lib/python3.10/dist-packages (from requests->huggingface-hub->accelerate) (3.3.2)\n",
            "Requirement already satisfied: idna<4,>=2.5 in /usr/local/lib/python3.10/dist-packages (from requests->huggingface-hub->accelerate) (3.6)\n",
            "Requirement already satisfied: urllib3<3,>=1.21.1 in /usr/local/lib/python3.10/dist-packages (from requests->huggingface-hub->accelerate) (2.0.7)\n",
            "Requirement already satisfied: certifi>=2017.4.17 in /usr/local/lib/python3.10/dist-packages (from requests->huggingface-hub->accelerate) (2024.2.2)\n",
            "Requirement already satisfied: mpmath>=0.19 in /usr/local/lib/python3.10/dist-packages (from sympy->torch>=1.10.0->accelerate) (1.3.0)\n"
          ]
        }
      ],
      "source": [
        "!pip install --upgrade accelerate\n",
        "#if transformers is not installed - restart the kernel\n",
        "import torch\n",
        "from transformers import pipeline"
      ]
    },
    {
      "cell_type": "code",
      "source": [
        "pipe = pipeline(\"text-generation\", model=\"TinyLlama/TinyLlama-1.1B-Chat-v1.0\", torch_dtype=torch.bfloat16, device_map=\"auto\")"
      ],
      "metadata": {
        "id": "PIiXrxK8Aa_v"
      },
      "execution_count": 9,
      "outputs": []
    },
    {
      "cell_type": "code",
      "source": [
        "messages = [\n",
        "    {\n",
        "        \"role\": \"system\",\n",
        "        \"content\": \"You are a comic book writer who creates funny comic book stories. An artist gives you series of pictures and you write short dialogs for them\",\n",
        "    },\n",
        "    {\"role\": \"user\", \"content\": \"Write me dialogs for series of pictures. Here's description of the pictures: a man in a suit and tie is dancing with his friends, a woman in a white shirt and black pants with red hearts, a woman in a pink flamingo swimsuit sitting on an inflatable, a man standing on a bridge, a man riding a horse\"},\n",
        "]\n",
        "prompt = pipe.tokenizer.apply_chat_template(messages, tokenize=False, add_generation_prompt=True)\n",
        "outputs = pipe(prompt, max_new_tokens=500, do_sample=True, temperature=0.7, top_k=50, top_p=0.95)\n",
        "print(outputs[0][\"generated_text\"])\n"
      ],
      "metadata": {
        "id": "4WV7HBxYrxD6",
        "colab": {
          "base_uri": "https://localhost:8080/"
        },
        "outputId": "bb02b7ad-73e1-4762-f81c-c02840695038"
      },
      "execution_count": null,
      "outputs": [
        {
          "output_type": "stream",
          "name": "stdout",
          "text": [
            "<|system|>\n",
            "You are a comic book writer who creates funny comic book stories. An artist gives you series of pictures and you write short dialogs for them</s>\n",
            "<|user|>\n",
            "Write me dialogs for series of pictures. Here's description of the pictures: a man in a suit and tie is dancing with his friends, a woman in a white shirt and black pants with red hearts, a woman in a pink flamingo swimsuit sitting on an inflatable, a man standing on a bridge, a man riding a horse</s>\n",
            "<|assistant|>\n",
            "Man in Suit and Tie: (dancing with his friends) Hey, guys! Dance with me!\n",
            "\n",
            "Woman in White Shirt and Black Pants: (smiling) Of course, we're all here to have fun!\n",
            "\n",
            "Red Heart: (laughing) You're the best!\n",
            "\n",
            "Pink Flamingo: (smiling) Let's do this!\n",
            "\n",
            "Man Standing on Bridge: (sitting on the bridge) This is amazing!\n",
            "\n",
            "Woman Riding Horse: (smiling) Wow, this is so cool!\n",
            "\n",
            "Man in Suit and Tie: (dancing) Let's keep the party going!\n",
            "\n",
            "Woman in White Shirt and Black Pants: (laughing) You're the best dancer!\n",
            "\n",
            "Red Heart: (laughing) You're doing a great job!\n",
            "\n",
            "Pink Flamingo: (smiling) You're the best!\n",
            "\n",
            "Man Standing on Bridge: (smiling) This is amazing!\n",
            "\n",
            "Woman Riding Horse: (smiling) Wow, this is so cool!\n",
            "\n",
            "Man in Suit and Tie: (dancing) Let's keep the party going!\n",
            "\n",
            "Woman in White Shirt and Black Pants: (laughing) You're the best dancer!\n",
            "\n",
            "Red Heart: (laughing) You're doing a great job!\n",
            "\n",
            "Pink Flamingo: (smiling) You're the best!\n",
            "\n",
            "Man Standing on Bridge: (smiling) This is amazing!\n",
            "\n",
            "Woman Riding Horse: (smiling) Wow, this is so cool!\n",
            "\n",
            "Man in Suit and Tie: (dancing) Let's keep the party going!\n",
            "\n",
            "Woman in White Shirt and Black Pants: (laughing) You're the best dancer!\n",
            "\n",
            "Red Heart: (laughing) You're doing a great job!\n",
            "\n",
            "Pink Flamingo: (smiling) You're the best!\n",
            "\n",
            "Man Standing on Bridge: (smiling) This is amazing!\n",
            "\n",
            "Woman Riding Horse: (smiling) Wow, this is so cool!\n",
            "\n",
            "Man in Suit and Tie: (dancing)\n"
          ]
        }
      ]
    },
    {
      "cell_type": "code",
      "source": [
        "messages = [\n",
        "    {\n",
        "        \"role\": \"system\",\n",
        "        \"content\": \"You are a comic book writer who creates funny comic book stories. An artist gives you series of pictures and you must write short dialogs (1 - 3 frases) for every picture\",\n",
        "    },\n",
        "    {\"role\": \"user\", \"content\": \"Write me dialogs for comic book story consists of 4 pictures. Here are descriptions of the pictures: a man in a suit and tie is dancing with his friends, a woman in a white shirt and black pants with red hearts, a woman in a pink flamingo swimsuit sitting on an inflatable, a man standing on a bridge, a man riding a horse\"},\n",
        "]\n",
        "prompt = pipe.tokenizer.apply_chat_template(messages, tokenize=False, add_generation_prompt=True)\n",
        "outputs = pipe(prompt, max_new_tokens=500, do_sample=True, temperature=0.7, top_k=50, top_p=0.95)\n",
        "print(outputs[0][\"generated_text\"])\n"
      ],
      "metadata": {
        "colab": {
          "base_uri": "https://localhost:8080/"
        },
        "id": "50DEmZpVFvCg",
        "outputId": "63e5c1d2-67b1-46d8-e677-a700fe1b4a50"
      },
      "execution_count": null,
      "outputs": [
        {
          "output_type": "stream",
          "name": "stdout",
          "text": [
            "<|system|>\n",
            "You are a comic book writer who creates funny comic book stories. An artist gives you series of pictures and you must write short dialogs (1 - 3 frases) for every picture</s>\n",
            "<|user|>\n",
            "Write me dialogs for comic book story consists of 4 pictures. Here are descriptions of the pictures: a man in a suit and tie is dancing with his friends, a woman in a white shirt and black pants with red hearts, a woman in a pink flamingo swimsuit sitting on an inflatable, a man standing on a bridge, a man riding a horse</s>\n",
            "<|assistant|>\n",
            "1. Man in Suit and Tie:\n",
            "The man in a suit and tie is seen dancing with his friends.\n",
            "\n",
            "- Dialog: \"Hey guys, I've got the dance move of the year!\"\n",
            "- Man in Suit and Tie: \"Yeah, I've been practicing it for weeks!\"\n",
            "\n",
            "2. Woman in White Shirt and Black Pants with Red Hearts:\n",
            "A woman in a white shirt and black pants with red hearts is seen dancing with her friends.\n",
            "\n",
            "- Dialog: \"I can't believe we're doing this in the rain!\"\n",
            "- Woman in White Shirt and Black Pants with Red Hearts: \"I'm doing my best, guys!\"\n",
            "\n",
            "3. Woman in Pink Flamingo Swimsuit:\n",
            "A woman in a pink flamingo swimsuit is seen sitting on an inflatable.\n",
            "\n",
            "- Dialog: \"That's the most comfortable chair I've ever sat in!\"\n",
            "- Woman in Pink Flamingo Swimsuit: \"I've always wanted to try it out!\"\n",
            "\n",
            "4. Man Standing on Bridge:\n",
            "A man is seen standing on a bridge.\n",
            "\n",
            "- Dialog: \"This bridge is incredible, but I've never been able to cross it before!\"\n",
            "- Man Standing on Bridge: \"I'm crossing it now!\"\n",
            "\n",
            "These dialogs should be written in a casual and humorous style to capture the essence of the comic book story.\n"
          ]
        }
      ]
    },
    {
      "cell_type": "code",
      "source": [
        "messages = [\n",
        "    {\n",
        "        \"role\": \"system\",\n",
        "        \"content\": \"You are a comic book writer who creates funny comic book stories. An artist gives you series of pictures and you must write dialogs for every picture\",\n",
        "    },\n",
        "    {\"role\": \"user\", \"content\": \"Write me dialogs for comic book story consists of 4 pictures. Picture 1: a man in a suit and tie is dancing with his friends. Picture 2: a woman in a white shirt and black pants with red hearts. Picture 3: a woman in a pink flamingo swimsuit sitting on an inflatable. Picture 4: a man standing on a bridge, a man riding a horse\"},\n",
        "]\n",
        "prompt = pipe.tokenizer.apply_chat_template(messages, tokenize=False, return_dict=True, add_generation_prompt=True)\n",
        "outputs = pipe(prompt, max_new_tokens=500, do_sample=True, temperature=0.7, top_k=50, top_p=0.95)\n",
        "print(outputs[0][\"generated_text\"])\n"
      ],
      "metadata": {
        "colab": {
          "base_uri": "https://localhost:8080/"
        },
        "id": "jTJ2UOyNeHnp",
        "outputId": "d03bff33-3bcb-40bd-f9d0-ad3f9e037fb5"
      },
      "execution_count": null,
      "outputs": [
        {
          "output_type": "stream",
          "name": "stdout",
          "text": [
            "<|system|>\n",
            "You are a comic book writer who creates funny comic book stories. An artist gives you series of pictures and you must write dialogs for every picture</s>\n",
            "<|user|>\n",
            "Write me dialogs for comic book story consists of 4 pictures. Picture 1: a man in a suit and tie is dancing with his friends. Picture 2: a woman in a white shirt and black pants with red hearts. Picture 3: a woman in a pink flamingo swimsuit sitting on an inflatable. Picture 4: a man standing on a bridge, a man riding a horse</s>\n",
            "<|assistant|>\n",
            "1. Man in suit and tie:\n",
            "- \"Hey, guys! I just got this new job and I'm so excited to show off my fancy suit. Can you believe it's been five years since I got this job?!\"\n",
            "- \"I was just thinking the other day that my friend and I used to go dancing together back in college. That was so much fun! Can you bring back some memories?\"\n",
            "- \"I was really hoping to see my friends again, but they have all moved away. It's crazy to think about all the years we've been apart.\"\n",
            "\n",
            "2. Woman in white shirt and black pants with red hearts:\n",
            "- \"Hey, guys! I just got this new job as a nurse. It's so important work, but it's also so rewarding. Can you believe it's been five years since I started working as a nurse?!\"\n",
            "- \"I used to be a fashion designer before I became a nurse. I've missed making clothes and seeing them on people. It's been so fun getting back into that world.\"\n",
            "- \"I've been on the road a lot lately, but I'm finally back in town for a few days. Do you guys want to come with me?\"\n",
            "\n",
            "3. Woman in pink flamingo swimsuit:\n",
            "- \"Hey, guys! I just got this new job as a swim instructor. It's so much fun teaching kids how to swim. Can you believe it's been five years since I started teaching swim lessons?!\"\n",
            "- \"I used to be a model before I started teaching swim lessons. I miss being on the runway and getting all the attention. It's been so much fun getting back into teaching.\"\n",
            "- \"I've been traveling a lot lately, but I'm finally back in town for a few days. Do you guys want to come with me?\"\n",
            "\n",
            "4. Man standing on a bridge, a man riding a horse:\n",
            "- \"Hey, guys! I just got this new job as a horse trainer. It's so much fun training horses and seeing them grow into beautiful animals. Can you believe it's been five years since I started training horses?\"\n",
            "- \"I used to be a\n"
          ]
        }
      ]
    },
    {
      "cell_type": "code",
      "source": [],
      "metadata": {
        "id": "N4ZMNwOlKTYa"
      },
      "execution_count": null,
      "outputs": []
    },
    {
      "cell_type": "code",
      "source": [
        "messages = [\n",
        "    {\n",
        "        \"role\": \"system\",\n",
        "        \"content\": \"You are a comic book writer who creates funny comic book stories. An artist gives you series of pictures and you must write dialogs for every picture\",\n",
        "    },\n",
        "    {\"role\": \"user\", \"content\": \"Write me dialogs for comic book story consists of 4 pictures. Picture 1: a man in a suit and tie is dancing with his friends. Picture 2: a woman in a white shirt and black pants with red hearts. Picture 3: a woman in a pink flamingo swimsuit sitting on an inflatable. Picture 4: a man standing on a bridge, a man riding a horse\"},\n",
        "]\n",
        "prompt = pipe.tokenizer.apply_chat_template(messages, tokenize=False, return_dict=True, add_generation_prompt=True)\n",
        "outputs = pipe(prompt, max_new_tokens=500, do_sample=True, temperature=0.7, top_k=50, top_p=0.95)\n",
        "print(outputs[0][\"generated_text\"])\n"
      ],
      "metadata": {
        "colab": {
          "base_uri": "https://localhost:8080/"
        },
        "id": "leSQU61_c9OV",
        "outputId": "37601765-0438-484d-ce98-504bc4e8d682"
      },
      "execution_count": 11,
      "outputs": [
        {
          "output_type": "stream",
          "name": "stdout",
          "text": [
            "<|system|>\n",
            "You are a comic book writer who creates funny comic book stories. An artist gives you series of pictures and you must write dialogs for every picture. The number of lines in each dialogue equals the number of characters on each picture but should not exceed 3</s>\n",
            "<|user|>\n",
            "Write me dialogs for comic book story consists of 4 pictures. Picture 1: a man in a suit and tie is dancing with his friends. Picture 2: a woman in a white shirt and black pants with red hearts. Picture 3: a woman in a pink flamingo swimsuit sitting on an inflatable. Picture 4: a man standing on a bridge, a man riding a horse</s>\n",
            "<|assistant|>\n",
            "Picture 1\n",
            "\n",
            "Man: \"Hey guys, what's up? Time for some dancing!\"\n",
            "\n",
            "Woman: \"Hey, man! You look great!\"\n",
            "\n",
            "Man: \"Thanks! And you? What's up?\"\n",
            "\n",
            "Woman: \"I'm just hanging out with my friends tonight. We have a dance party going on!\"\n",
            "\n",
            "Man: \"That's awesome! What kind of music do you like?\"\n",
            "\n",
            "Woman: \"I'm a big fan of disco! I love that upbeat, fun music!\"\n",
            "\n",
            "Man: \"That's great! Let's dance!\"\n",
            "\n",
            "Picture 2\n",
            "\n",
            "Man: \"Hey, man! What's up?\"\n",
            "\n",
            "Woman: \"Hey, man! You look great!\"\n",
            "\n",
            "Man: \"Thanks! And you? What's up?\"\n",
            "\n",
            "Woman: \"I'm just hanging out with my friends tonight. We have a cookout going on!\"\n",
            "\n",
            "Man: \"That sounds great! What kind of food do you have?\"\n",
            "\n",
            "Woman: \"We're having grilled chicken, burgers, and hot dogs!\"\n",
            "\n",
            "Man: \"Wow, that sounds amazing! Let's have some fun!\"\n",
            "\n",
            "Picture 3\n",
            "\n",
            "Man: \"Hey, man! What's up?\"\n",
            "\n",
            "Woman: \"Hey, man! You look great!\"\n",
            "\n",
            "Man: \"Thanks! And you? What's up?\"\n",
            "\n",
            "Woman: \"I'm just hanging out with my friends tonight. We're on this inflatable obstacle course!\"\n",
            "\n",
            "Man: \"Wow, that sounds like fun! What kind of obstacles are we going to face?\"\n",
            "\n",
            "Woman: \"We're going to face a wall, a jumping pillow, a giant inflatable castle, and a giant slide!\"\n",
            "\n",
            "Man: \"I can't wait to see how high we can go!\"\n",
            "\n",
            "Picture 4\n",
            "\n",
            "Man: \"Hey, man! What's up?\"\n",
            "\n",
            "Woman: \"Hey, man! You look great!\"\n",
            "\n",
            "Man: \"Thanks! And you? What's up?\"\n",
            "\n",
            "Woman: \"I'm just hanging out with my friends tonight. We're\n"
          ]
        }
      ]
    },
    {
      "cell_type": "code",
      "source": [
        "messages = [\n",
        "    {\n",
        "        \"role\": \"system\",\n",
        "        \"content\": \"You are a comic book writer who creates funny comic book stories. An artist gives you series of pictures and you must write dialogs for every picture. Each dialogue contains a maximum of 3 lines\",\n",
        "    },\n",
        "    {\"role\": \"user\", \"content\": \"Write me dialogs for comic book story consists of 4 pictures. Picture 1: a man in a suit and tie is dancing with his friends. Picture 2: a woman in a white shirt and black pants with red hearts. Picture 3: a woman in a pink flamingo swimsuit sitting on an inflatable. Picture 4: a man standing on a bridge, a man riding a horse\"},\n",
        "]\n",
        "prompt = pipe.tokenizer.apply_chat_template(messages, tokenize=False, return_dict=True, add_generation_prompt=True)\n",
        "outputs = pipe(prompt, max_new_tokens=500, do_sample=True, temperature=0.7, top_k=50, top_p=0.95)\n",
        "print(outputs[0][\"generated_text\"])\n"
      ],
      "metadata": {
        "colab": {
          "base_uri": "https://localhost:8080/"
        },
        "id": "adGw5w_uNlR2",
        "outputId": "3719c12a-675c-45b3-c26f-9b28ca500157"
      },
      "execution_count": 14,
      "outputs": [
        {
          "output_type": "stream",
          "name": "stdout",
          "text": [
            "<|system|>\n",
            "You are a comic book writer who creates funny comic book stories. An artist gives you series of pictures and you must write dialogs for every picture. Each dialogue contains a maximum of 3 lines</s>\n",
            "<|user|>\n",
            "Write me dialogs for comic book story consists of 4 pictures. Picture 1: a man in a suit and tie is dancing with his friends. Picture 2: a woman in a white shirt and black pants with red hearts. Picture 3: a woman in a pink flamingo swimsuit sitting on an inflatable. Picture 4: a man standing on a bridge, a man riding a horse</s>\n",
            "<|assistant|>\n",
            "[Man in Suit and Tie]\n",
            "\n",
            "1. (Suit and tie) \"It's time to get our groove on!\"\n",
            "2. (Woman in White Shirt and Black Pants with Red Hearts)\n",
            "    \"Hey, let's make some noise!\"\n",
            "3. (Woman in Pink Flamingo Swimsuit)\n",
            "    \"Get ready to let loose!\"\n",
            "4. (Man standing on Bridge, Horse)\n",
            "    \"C'mon, let's ride!\"\n",
            "\n",
            "[Woman in Pink Flamingo Swimsuit]\n",
            "\n",
            "1. (Woman in Pink Flamingo Swimsuit)\n",
            "    \"Whoa! This is ridiculous!\"\n",
            "2. (Man standing on Bridge, Horse)\n",
            "    \"That's insane!\"\n",
            "3. (Woman in Pink Flamingo Swimsuit)\n",
            "    \"I can't believe I'm doing this!\"\n",
            "4. (Man standing on Bridge, Horse)\n",
            "    \"Let's go, we've got this!\"\n"
          ]
        }
      ]
    },
    {
      "cell_type": "code",
      "source": [
        "messages = [\n",
        "    {\n",
        "        \"role\": \"system\",\n",
        "        \"content\": \"You are a comic book writer who creates funny comic book stories. An artist gives you series of pictures. \",\n",
        "    },\n",
        "    {\"role\": \"user\", \"content\": \"Write me dialogs for comic book story consists of 4 pictures. Picture 1: a man in a suit and tie is dancing with his friends. Picture 2: a woman in a white shirt and black pants with red hearts. Picture 3: a woman in a pink flamingo swimsuit sitting on an inflatable. Picture 4: a man standing on a bridge, a man riding a horse\"},\n",
        "]\n",
        "prompt = pipe.tokenizer.apply_chat_template(messages, tokenize=False, return_dict=True, add_generation_prompt=True)\n",
        "outputs = pipe(prompt, max_new_tokens=500, do_sample=True, temperature=0.7, top_k=50, top_p=0.95)\n",
        "print(outputs[0][\"generated_text\"])\n"
      ],
      "metadata": {
        "colab": {
          "base_uri": "https://localhost:8080/"
        },
        "outputId": "3719c12a-675c-45b3-c26f-9b28ca500157",
        "id": "-1ZwqAP4a6hP"
      },
      "execution_count": null,
      "outputs": [
        {
          "output_type": "stream",
          "name": "stdout",
          "text": [
            "<|system|>\n",
            "You are a comic book writer who creates funny comic book stories. An artist gives you series of pictures and you must write dialogs for every picture. Each dialogue contains a maximum of 3 lines</s>\n",
            "<|user|>\n",
            "Write me dialogs for comic book story consists of 4 pictures. Picture 1: a man in a suit and tie is dancing with his friends. Picture 2: a woman in a white shirt and black pants with red hearts. Picture 3: a woman in a pink flamingo swimsuit sitting on an inflatable. Picture 4: a man standing on a bridge, a man riding a horse</s>\n",
            "<|assistant|>\n",
            "[Man in Suit and Tie]\n",
            "\n",
            "1. (Suit and tie) \"It's time to get our groove on!\"\n",
            "2. (Woman in White Shirt and Black Pants with Red Hearts)\n",
            "    \"Hey, let's make some noise!\"\n",
            "3. (Woman in Pink Flamingo Swimsuit)\n",
            "    \"Get ready to let loose!\"\n",
            "4. (Man standing on Bridge, Horse)\n",
            "    \"C'mon, let's ride!\"\n",
            "\n",
            "[Woman in Pink Flamingo Swimsuit]\n",
            "\n",
            "1. (Woman in Pink Flamingo Swimsuit)\n",
            "    \"Whoa! This is ridiculous!\"\n",
            "2. (Man standing on Bridge, Horse)\n",
            "    \"That's insane!\"\n",
            "3. (Woman in Pink Flamingo Swimsuit)\n",
            "    \"I can't believe I'm doing this!\"\n",
            "4. (Man standing on Bridge, Horse)\n",
            "    \"Let's go, we've got this!\"\n"
          ]
        }
      ]
    },
    {
      "cell_type": "code",
      "source": [
        "messages = [\n",
        "    {\n",
        "        \"role\": \"system\",\n",
        "        \"content\": \"You are a comic book writer who creates funny comic book stories. An artist gives you descriptions of pictures. For each picture, generate a dialogue containing only the characters depicted in that specific picture. Ensure that the number of lines in each dialogue corresponds to the number of characters in the picture but does not exceed 3 lines. Please keep the dialogue focused on the characters present in each scene. \",\n",
        "    },\n",
        "    {\"role\": \"user\", \"content\": \"Write me dialogs for comic book story consists of 4 pictures. Picture 1: a man in a suit and tie is dancing with his friends. Picture 2: a woman in a white shirt and black pants with red hearts. Picture 3: a woman in a pink flamingo swimsuit sitting on an inflatable. Picture 4: a man standing on a bridge, a man riding a horse\"},\n",
        "]\n",
        "prompt = pipe.tokenizer.apply_chat_template(messages, tokenize=False, return_dict=True, add_generation_prompt=True)\n",
        "outputs = pipe(prompt, max_new_tokens=500, do_sample=True, temperature=0.7, top_k=50, top_p=0.95)\n",
        "print(outputs[0][\"generated_text\"])\n"
      ],
      "metadata": {
        "id": "1iQlK-yfbAnm"
      },
      "execution_count": null,
      "outputs": []
    }
  ]
}